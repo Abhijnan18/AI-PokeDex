{
 "cells": [
  {
   "cell_type": "code",
   "execution_count": null,
   "metadata": {},
   "outputs": [],
   "source": [
    "!pip install -q -U google-generativeai\n",
    "!pip install pillow"
   ]
  },
  {
   "cell_type": "code",
   "execution_count": null,
   "metadata": {},
   "outputs": [],
   "source": [
    "import textwrap\n",
    "\n",
    "import google.generativeai as genai\n",
    "\n",
    "from IPython.display import Markdown\n",
    "\n",
    "\n",
    "def to_markdown(text):\n",
    "    text = text.replace('•', '  *')\n",
    "    return Markdown(textwrap.indent(text, '> ', predicate=lambda _: True))"
   ]
  },
  {
   "cell_type": "code",
   "execution_count": null,
   "metadata": {},
   "outputs": [],
   "source": [
    "genai.configure(api_key=\"YOUR_API_KEY\")"
   ]
  },
  {
   "cell_type": "code",
   "execution_count": null,
   "metadata": {},
   "outputs": [],
   "source": [
    "import os\n",
    "import random\n",
    "import PIL.Image\n",
    "\n",
    "\n",
    "def select_random_image(folder_path):\n",
    "    # List all files in the folder\n",
    "    files = os.listdir(folder_path)\n",
    "    # Filter out non-image files\n",
    "    image_files = [f for f in files if f.endswith(\n",
    "        '.png') or f.endswith('.jpg') or f.endswith('.jpeg')]\n",
    "    # Select a random image file\n",
    "    random_image = random.choice(image_files)\n",
    "    # Return the path to the random image\n",
    "    return os.path.join(folder_path, random_image)\n",
    "\n",
    "\n",
    "# Path to the folder containing images\n",
    "folder_path = 'pokemon/'\n",
    "\n",
    "# Get a random image path\n",
    "random_image_path = select_random_image(folder_path)\n",
    "\n",
    "# Open the random image using PIL\n",
    "img = PIL.Image.open(random_image_path)\n",
    "img"
   ]
  },
  {
   "cell_type": "code",
   "execution_count": null,
   "metadata": {},
   "outputs": [],
   "source": [
    "model = genai.GenerativeModel('gemini-pro-vision')\n",
    "response = model.generate_content(img)"
   ]
  },
  {
   "cell_type": "code",
   "execution_count": null,
   "metadata": {},
   "outputs": [],
   "source": [
    "prompt = \"\"\"\n",
    "Imagine you're a Pokedex and provide information about the Pokemon depicted in the image using the following format:\n",
    "\\n\n",
    "### Pokédex data\n",
    "**Name**: \\n\n",
    "**Type**: \\n\n",
    "**Species**: \\n\n",
    "**Height**: \\n\n",
    "**Weight**: \\n\n",
    "**Abilities**: \\n\n",
    "**Description**: \n",
    "\n",
    "If the image is not of a pokemon Refuse to answer the question. If any of the information of about the Pokemon is not found, dispaly N/A\n",
    "\"\"\"\n",
    "\n",
    "response = model.generate_content([prompt, img], stream=True)\n",
    "response.resolve()\n",
    "to_markdown(response.text)"
   ]
  },
  {
   "cell_type": "code",
   "execution_count": null,
   "metadata": {},
   "outputs": [],
   "source": []
  }
 ],
 "metadata": {
  "kernelspec": {
   "display_name": "myenv",
   "language": "python",
   "name": "python3"
  },
  "language_info": {
   "codemirror_mode": {
    "name": "ipython",
    "version": 3
   },
   "file_extension": ".py",
   "mimetype": "text/x-python",
   "name": "python",
   "nbconvert_exporter": "python",
   "pygments_lexer": "ipython3",
   "version": "3.10.9"
  }
 },
 "nbformat": 4,
 "nbformat_minor": 2
}
